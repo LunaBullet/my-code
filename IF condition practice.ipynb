{
 "cells": [
  {
   "cell_type": "code",
   "execution_count": 1,
   "metadata": {},
   "outputs": [
    {
     "name": "stdout",
     "output_type": "stream",
     "text": [
      "no of years experience: 8\n",
      "enter the salary: 100000\n",
      "bonus amount is 50000.0\n"
     ]
    }
   ],
   "source": [
    "exp_year = int(input(\"no of years experience: \"))\n",
    "salary = int(input(\"enter the salary: \"))\n",
    "if exp_year > 5:\n",
    "    bonus_amount = salary*0.5\n",
    "    print(\"bonus amount is\", bonus_amount)\n",
    "else:\n",
    "    print(\"No bonus amount\")"
   ]
  },
  {
   "cell_type": "markdown",
   "metadata": {},
   "source": [
    "Take values of length and breadth of a rectangle from user and check if it is square or not."
   ]
  },
  {
   "cell_type": "code",
   "execution_count": 2,
   "metadata": {},
   "outputs": [
    {
     "name": "stdout",
     "output_type": "stream",
     "text": [
      "enter the length: 89\n",
      "enter the breadth: 89\n",
      "it is square\n"
     ]
    }
   ],
   "source": [
    "\n",
    "\n",
    "l = int(input(\"enter the length: \"))\n",
    "b = int(input(\"enter the breadth: \"))\n",
    "\n",
    "\n",
    "if l==b:\n",
    "    print(\"it is square\")\n",
    "else:\n",
    "    print(\"it is not square\")"
   ]
  },
  {
   "cell_type": "code",
   "execution_count": 3,
   "metadata": {},
   "outputs": [
    {
     "name": "stdout",
     "output_type": "stream",
     "text": [
      "enter the no: 89\n",
      "enter the no: 56\n",
      "89 is the greatest no \n"
     ]
    }
   ],
   "source": [
    "a = int(input(\"enter the no: \"))\n",
    "b = int(input(\"enter the no: \"))\n",
    "\n",
    "if a > b: \n",
    "    print(a,\"is the greatest no \")\n",
    "else:\n",
    "    print(b,\"is the greatest no \")"
   ]
  },
  {
   "cell_type": "code",
   "execution_count": 4,
   "metadata": {},
   "outputs": [
    {
     "name": "stdout",
     "output_type": "stream",
     "text": [
      "enter the mark:85\n",
      "A\n"
     ]
    }
   ],
   "source": [
    "mark = int(input('enter the mark:'))\n",
    "\n",
    "if mark<25:\n",
    "    print('F')\n",
    "elif mark>=25 and mark<45:\n",
    "    print('E')\n",
    "elif mark>=45 and mark<50:\n",
    "    print('D')\n",
    "elif mark>=50 and mark<60:\n",
    "    print('C')\n",
    "elif mark>=60 and mark<80:\n",
    "    print('B')\n",
    "else:\n",
    "    print('A')\n",
    "        "
   ]
  },
  {
   "cell_type": "code",
   "execution_count": 5,
   "metadata": {},
   "outputs": [
    {
     "name": "stdout",
     "output_type": "stream",
     "text": [
      "enter the age1:89\n",
      "enter the age2:78\n",
      "enter the age3:45\n",
      "89 is oldest\n"
     ]
    }
   ],
   "source": [
    "age1 = int(input(\"enter the age1:\"))\n",
    "age2 = int(input(\"enter the age2:\"))\n",
    "age3 = int(input(\"enter the age3:\"))\n",
    "\n",
    "if age1>=age2 and age1>age3:\n",
    "    print(age1,\"is oldest\")\n",
    "elif age2>=age1 and age2>=age3:\n",
    "    print(age2,\"is oldest\")\n",
    "elif age3>=age2 and age3>=age1:\n",
    "    print(age3,\"is oldest\")\n",
    "else:\n",
    "    print(\"all are equal\")"
   ]
  },
  {
   "cell_type": "code",
   "execution_count": 6,
   "metadata": {},
   "outputs": [
    {
     "name": "stdout",
     "output_type": "stream",
     "text": [
      "number:9\n",
      "9\n"
     ]
    }
   ],
   "source": [
    "a = int(input(\"number:\"))\n",
    "\n",
    "if a<0:\n",
    "    print(a*-1)\n",
    "else:\n",
    "    print(a)"
   ]
  },
  {
   "cell_type": "code",
   "execution_count": 7,
   "metadata": {},
   "outputs": [
    {
     "name": "stdout",
     "output_type": "stream",
     "text": [
      "enter the no of class held:15\n",
      "enter the no of calss attend:13\n",
      "medical cause:no\n",
      "your attendance is: 87%\n",
      "allowed to the exam\n"
     ]
    }
   ],
   "source": [
    "class_held = int(input('enter the no of class held:'))\n",
    "class_attend = int(input('enter the no of calss attend:'))\n",
    "medical = input(\"medical cause:\")\n",
    "\n",
    "attendance = (class_attend/float(class_held))*100\n",
    "print(\"your attendance is: {:.0f}%\".format(attendance))\n",
    "\n",
    "if attendance>=75 or medical == 'yes':\n",
    "    print(\"allowed to the exam\")\n",
    "else:\n",
    "    print(\"not allowed to the exam\")\n",
    "\n"
   ]
  },
  {
   "cell_type": "code",
   "execution_count": 8,
   "metadata": {},
   "outputs": [
    {
     "name": "stdout",
     "output_type": "stream",
     "text": [
      "enter the year: 5045\n",
      "5045 is not a leap year\n"
     ]
    }
   ],
   "source": [
    "year = int(input(\"enter the year: \"))\n",
    "\n",
    "if year%4==0 and year%100 != 0:\n",
    "    print(year,\"is a leap year\")\n",
    "elif year%400 == 0:\n",
    "    print(year,\"is a leap year\")\n",
    "else:\n",
    "    print(year,\"is not a leap year\")"
   ]
  },
  {
   "cell_type": "code",
   "execution_count": 9,
   "metadata": {},
   "outputs": [
    {
     "name": "stdout",
     "output_type": "stream",
     "text": [
      "enter the age:79\n",
      "enter the sex:male\n",
      "yes/no:yes\n",
      "error\n"
     ]
    }
   ],
   "source": [
    "age = int(input(\"enter the age:\"))\n",
    "sex = input(\"enter the sex:\")\n",
    "marital_status = input(\"yes/no:\")\n",
    "\n",
    "if sex == 'female' and age >=20 and age <=60:\n",
    "    print(\"she will work only in urban areas\")\n",
    "elif sex == 'male' and age >=20 and age <=40:\n",
    "    print(\"he may work anywhere\")\n",
    "elif sex == 'male' and age >40 and age<=60:\n",
    "    print(\"he will work in urban areas only\")\n",
    "else:\n",
    "    print(\"error\")"
   ]
  },
  {
   "cell_type": "code",
   "execution_count": null,
   "metadata": {},
   "outputs": [],
   "source": []
  }
 ],
 "metadata": {
  "kernelspec": {
   "display_name": "Python 3",
   "language": "python",
   "name": "python3"
  },
  "language_info": {
   "codemirror_mode": {
    "name": "ipython",
    "version": 3
   },
   "file_extension": ".py",
   "mimetype": "text/x-python",
   "name": "python",
   "nbconvert_exporter": "python",
   "pygments_lexer": "ipython3",
   "version": "3.8.5"
  }
 },
 "nbformat": 4,
 "nbformat_minor": 4
}
