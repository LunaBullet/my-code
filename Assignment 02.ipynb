{
 "cells": [
  {
   "cell_type": "markdown",
   "metadata": {},
   "source": [
    "<img src=\"http://cfs22.simplicdn.net/ice9/new_logo.svgz \"/>\n",
    "\n",
    "# Assignment 02: Evaluate the Summer Olympics, London 2012 dataset\n",
    "\n",
    "*The comments/sections provided are your cues to perform the assignment. You don't need to limit yourself to the number of rows/cells provided. You can add additional rows in each section to add more lines of code.*\n",
    "\n",
    "*If at any point in time you need help on solving this assignment, view our demo video to understand the different steps of the code.*\n",
    "\n",
    "**Happy coding!**\n",
    "\n",
    "* * *"
   ]
  },
  {
   "cell_type": "markdown",
   "metadata": {},
   "source": [
    "#### 1: View and add the dataset"
   ]
  },
  {
   "cell_type": "code",
   "execution_count": 1,
   "metadata": {},
   "outputs": [],
   "source": [
    "#Import the necessary library\n",
    "import numpy as np"
   ]
  },
  {
   "cell_type": "code",
   "execution_count": 2,
   "metadata": {},
   "outputs": [],
   "source": [
    "#Manually add the Summer Olympics, London 2012 dataset as arrays\n",
    "np_olympics_country = np.array(['Great Britain','China','Russia','United States','Korea','Japan','Germany'])\n",
    "np_olympics_country_code = np.array(['GBR','CHN','RUS','US','KOR','JPN','GER'])\n",
    "np_olympics_gold = np.array([29,38,4,46,13,7,11])\n",
    "np_olympics_silver = np.array([17,28,25,28,8,14,11])\n",
    "np_olympics_bronze = np.array([19,22,32,29,7,17,14])"
   ]
  },
  {
   "cell_type": "markdown",
   "metadata": {},
   "source": [
    "#### Find the country with maximum gold medals"
   ]
  },
  {
   "cell_type": "code",
   "execution_count": 3,
   "metadata": {},
   "outputs": [],
   "source": [
    "#Use the argmax() method to find the highest number of gold medals\n",
    "max_country_with_gold = np_olympics_gold.argmax()\n",
    "country_with_max_gold = np_olympics_country[max_country_with_gold]"
   ]
  },
  {
   "cell_type": "code",
   "execution_count": 4,
   "metadata": {},
   "outputs": [
    {
     "name": "stdout",
     "output_type": "stream",
     "text": [
      "United States\n"
     ]
    }
   ],
   "source": [
    "#Print the name of the country\n",
    "print(country_with_max_gold)"
   ]
  },
  {
   "cell_type": "markdown",
   "metadata": {},
   "source": [
    "#### Find the countries with more than 20 gold medals"
   ]
  },
  {
   "cell_type": "code",
   "execution_count": 5,
   "metadata": {},
   "outputs": [
    {
     "name": "stdout",
     "output_type": "stream",
     "text": [
      "['Great Britain' 'China' 'United States']\n"
     ]
    }
   ],
   "source": [
    "#Use Boolean indexing technique to find the required output\n",
    "print(np_olympics_country[np_olympics_gold>20])"
   ]
  },
  {
   "cell_type": "markdown",
   "metadata": {},
   "source": [
    "#### Evaluate the dataset and print the name of each country with its gold medals and total number of medals"
   ]
  },
  {
   "cell_type": "code",
   "execution_count": 6,
   "metadata": {},
   "outputs": [
    {
     "name": "stdout",
     "output_type": "stream",
     "text": [
      "Great Britain gold medal, 29 total medal\n",
      "China gold medal, 38 total medal\n",
      "Russia gold medal, 4 total medal\n",
      "United States gold medal, 46 total medal\n",
      "Korea gold medal, 13 total medal\n",
      "Japan gold medal, 7 total medal\n",
      "Germany gold medal, 11 total medal\n"
     ]
    }
   ],
   "source": [
    "#Use a for loop to create the required output\n",
    "for i in range(len(np_olympics_country)):\n",
    "    gold_medal = np_olympics_gold[i]\n",
    "    country = np_olympics_country[i]\n",
    "    total_medal = np_olympics_bronze[i]+np_olympics_gold[i]+np_olympics_silver[i]\n",
    "    print('{} gold medal, {} total medal'. format(country,gold_medal,total_medal))\n",
    "    "
   ]
  }
 ],
 "metadata": {
  "kernelspec": {
   "display_name": "Python 3",
   "language": "python",
   "name": "python3"
  },
  "language_info": {
   "codemirror_mode": {
    "name": "ipython",
    "version": 3
   },
   "file_extension": ".py",
   "mimetype": "text/x-python",
   "name": "python",
   "nbconvert_exporter": "python",
   "pygments_lexer": "ipython3",
   "version": "3.7.4"
  }
 },
 "nbformat": 4,
 "nbformat_minor": 1
}
